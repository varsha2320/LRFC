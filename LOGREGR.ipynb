{
  "nbformat": 4,
  "nbformat_minor": 0,
  "metadata": {
    "colab": {
      "provenance": []
    },
    "kernelspec": {
      "name": "python3",
      "display_name": "Python 3"
    },
    "language_info": {
      "name": "python"
    }
  },
  "cells": [
    {
      "cell_type": "code",
      "execution_count": 48,
      "metadata": {
        "colab": {
          "base_uri": "https://localhost:8080/",
          "height": 1000
        },
        "id": "PdImoT0s7Kuv",
        "outputId": "b5a2da0e-b25c-47cc-9d3a-0d9b68b9963d"
      },
      "outputs": [
        {
          "output_type": "stream",
          "name": "stdout",
          "text": [
            "     age  sex  cp  trestbps  chol  fbs  restecg  thalach  exang  oldpeak  \\\n",
            "0     63    1   3       145   233    1        0      150      0      2.3   \n",
            "1     37    1   2       130   250    0        1      187      0      3.5   \n",
            "2     41    0   1       130   204    0        0      172      0      1.4   \n",
            "3     56    1   1       120   236    0        1      178      0      0.8   \n",
            "4     57    0   0       120   354    0        1      163      1      0.6   \n",
            "..   ...  ...  ..       ...   ...  ...      ...      ...    ...      ...   \n",
            "298   57    0   0       140   241    0        1      123      1      0.2   \n",
            "299   45    1   3       110   264    0        1      132      0      1.2   \n",
            "300   68    1   0       144   193    1        1      141      0      3.4   \n",
            "301   57    1   0       130   131    0        1      115      1      1.2   \n",
            "302   57    0   1       130   236    0        0      174      0      0.0   \n",
            "\n",
            "     slope  ca  thal  target  \n",
            "0        0   0     1       1  \n",
            "1        0   0     2       1  \n",
            "2        2   0     2       1  \n",
            "3        2   0     2       1  \n",
            "4        2   0     2       1  \n",
            "..     ...  ..   ...     ...  \n",
            "298      1   0     3       0  \n",
            "299      1   0     3       0  \n",
            "300      1   2     3       0  \n",
            "301      1   1     3       0  \n",
            "302      1   1     2       0  \n",
            "\n",
            "[303 rows x 14 columns]\n",
            "StandardScaler()\n",
            "[[ 0.9521966   0.68100522  1.97312292 ...  2.394438   -1.00583187\n",
            "   0.01544279]\n",
            " [-1.91531289  0.68100522  1.00257707 ... -0.41763453  0.89896224\n",
            "   1.63347147]\n",
            " [-1.47415758 -1.46841752  0.03203122 ... -0.41763453 -1.00583187\n",
            "   0.97751389]\n",
            " ...\n",
            " [ 1.50364073  0.68100522 -0.93851463 ...  2.394438    0.89896224\n",
            "  -0.37813176]\n",
            " [ 0.29046364  0.68100522 -0.93851463 ... -0.41763453  0.89896224\n",
            "  -1.51512489]\n",
            " [ 0.29046364 -1.46841752  0.03203122 ... -0.41763453 -1.00583187\n",
            "   1.0649749 ]]\n",
            "     age  sex  cp  trestbps  chol  fbs  restecg  thalach\n",
            "0     63    1   3       145   233    1        0      150\n",
            "1     37    1   2       130   250    0        1      187\n",
            "2     41    0   1       130   204    0        0      172\n",
            "3     56    1   1       120   236    0        1      178\n",
            "4     57    0   0       120   354    0        1      163\n",
            "..   ...  ...  ..       ...   ...  ...      ...      ...\n",
            "298   57    0   0       140   241    0        1      123\n",
            "299   45    1   3       110   264    0        1      132\n",
            "300   68    1   0       144   193    1        1      141\n",
            "301   57    1   0       130   131    0        1      115\n",
            "302   57    0   1       130   236    0        0      174\n",
            "\n",
            "[303 rows x 8 columns]\n",
            "0.801762114537445\n",
            "0.7894736842105263\n",
            "Accuracy :  0.7894736842105263\n",
            "(227, 8)\n",
            "(227, 1)\n",
            "(76, 8)\n",
            "(76, 1)\n",
            "              precision    recall  f1-score   support\n",
            "\n",
            "           0       0.86      0.83      0.85        53\n",
            "           1       0.64      0.70      0.67        23\n",
            "\n",
            "    accuracy                           0.79        76\n",
            "   macro avg       0.75      0.76      0.76        76\n",
            "weighted avg       0.80      0.79      0.79        76\n",
            "\n"
          ]
        },
        {
          "output_type": "stream",
          "name": "stderr",
          "text": [
            "/usr/local/lib/python3.7/dist-packages/sklearn/utils/validation.py:993: DataConversionWarning: A column-vector y was passed when a 1d array was expected. Please change the shape of y to (n_samples, ), for example using ravel().\n",
            "  y = column_or_1d(y, warn=True)\n",
            "/usr/local/lib/python3.7/dist-packages/sklearn/linear_model/_logistic.py:818: ConvergenceWarning: lbfgs failed to converge (status=1):\n",
            "STOP: TOTAL NO. of ITERATIONS REACHED LIMIT.\n",
            "\n",
            "Increase the number of iterations (max_iter) or scale the data as shown in:\n",
            "    https://scikit-learn.org/stable/modules/preprocessing.html\n",
            "Please also refer to the documentation for alternative solver options:\n",
            "    https://scikit-learn.org/stable/modules/linear_model.html#logistic-regression\n",
            "  extra_warning_msg=_LOGISTIC_SOLVER_CONVERGENCE_MSG,\n"
          ]
        },
        {
          "output_type": "display_data",
          "data": {
            "text/plain": [
              "<Figure size 432x288 with 2 Axes>"
            ],
            "image/png": "[encoded data removed]"
          },
          "metadata": {
            "needs_background": "light"
          }
        }
      ],
      "source": [
        "import pandas as pd\n",
        "import matplotlib.pyplot as plt\n",
        "from sklearn.model_selection import train_test_split\n",
        "from sklearn.linear_model import LogisticRegression\n",
        "data=pd.read_csv('/content/heart.csv')\n",
        "print(data)\n",
        "x=data.iloc[:,0:8]\n",
        "y=data.iloc[:,8:9]\n",
        "from sklearn.preprocessing import StandardScaler\n",
        "sc=StandardScaler()\n",
        "data=sc.fit(x)\n",
        "dd=sc.transform(x)\n",
        "print(data)\n",
        "print(dd)\n",
        "print(x)\n",
        "lg=LogisticRegression(random_state=99)\n",
        "mm=lg.fit(x_train,y_train)\n",
        "print(mm.score(x_train,y_train)) \n",
        "print(mm.score(x_test,y_test))\n",
        "yp=mm.predict(x_test)\n",
        "from sklearn.metrics import accuracy_score\n",
        "print (\"Accuracy : \", accuracy_score(yp,y_test))\n",
        "x_train,x_test,y_train,y_test=train_test_split(x,y,test_size=0.25,random_state=True)\n",
        "print(x_train.shape)\n",
        "print(y_train.shape)\n",
        "print(x_test.shape)\n",
        "print(y_test.shape)\n",
        "from sklearn.metrics import classification_report\n",
        "print(classification_report(yp,y_test))\n",
        "from sklearn.metrics import confusion_matrix\n",
        "from sklearn.metrics import ConfusionMatrixDisplay\n",
        "cm=confusion_matrix(yp,y_test)\n",
        "d=ConfusionMatrixDisplay(cm).plot()"
      ]
    }
  ]
}